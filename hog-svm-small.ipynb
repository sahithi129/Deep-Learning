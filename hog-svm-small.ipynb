{
 "cells": [
  {
   "cell_type": "code",
   "execution_count": 5,
   "metadata": {
    "collapsed": false
   },
   "outputs": [
    {
     "name": "stdout",
     "output_type": "stream",
     "text": [
      "['American_eskimo_dog', 'Australian_shepherd', 'Briard', 'Dalmatian', 'German_shepherd_dog', 'Havanese', 'Italian_greyhound']\n",
      "There are 7 total dog categories.\n",
      "There are 560 total dog images.\n",
      "\n",
      "There are 447 training dog images.\n",
      "There are 55 validation dog images.\n",
      "There are 58 test dog images.\n"
     ]
    }
   ],
   "source": [
    "from sklearn.datasets import load_files       \n",
    "from keras.utils import np_utils\n",
    "import numpy as np\n",
    "from glob import glob\n",
    "\n",
    "# define function to load train, test, and validation datasets\n",
    "def load_dataset(path):\n",
    "    data = load_files(path)\n",
    "    dog_files = np.array(data['filenames'])\n",
    "#     dog_targets = np_utils.to_categorical(np.array(data['target']), 133)\n",
    "    dog_targets = data['target']\n",
    "    return dog_files, dog_targets\n",
    "\n",
    "# load train, test, and validation datasets\n",
    "train_files, train_targets = load_dataset('data/dogImages/train')\n",
    "valid_files, valid_targets = load_dataset('data/dogImages/valid')\n",
    "test_files, test_targets = load_dataset('data/dogImages/test')\n",
    "\n",
    "# load list of dog names\n",
    "dog_names = [item[20:-1] for item in sorted(glob(\"data/dogImages/train/*/\"))]\n",
    "for i in range(len(dog_names)):\n",
    "    dog_names[i] = dog_names[i].split('.')[1]\n",
    "print(dog_names)\n",
    "# print statistics about the dataset\n",
    "print('There are %d total dog categories.' % len(dog_names))\n",
    "print('There are %s total dog images.\\n' % len(np.hstack([train_files, valid_files, test_files])))\n",
    "print('There are %d training dog images.' % len(train_files))\n",
    "print('There are %d validation dog images.' % len(valid_files))\n",
    "print('There are %d test dog images.'% len(test_files))"
   ]
  },
  {
   "cell_type": "code",
   "execution_count": 7,
   "metadata": {
    "collapsed": false
   },
   "outputs": [],
   "source": [
    "\n",
    "from keras.preprocessing import image                  \n",
    "import cv2\n",
    "from PIL import Image, ImageOps, ImageFile\n",
    "ImageFile.LOAD_TRUNCATED_IMAGES = True\n",
    "import pandas as pd\n",
    "import matplotlib.pyplot as plt\n",
    "from time import time \n",
    "\n",
    "    \n"
   ]
  },
  {
   "cell_type": "code",
   "execution_count": 66,
   "metadata": {
    "collapsed": true
   },
   "outputs": [],
   "source": [
    "def py_resize(image):\n",
    "    \n",
    "    desired_size = 128\n",
    "    im_pth = image\n",
    "    im = Image.open(im_pth)\n",
    "    \n",
    "    old_size = im.size  # old_size[0] is in (width, height) format\n",
    "    \n",
    "    ratio = float(desired_size)/max(old_size)\n",
    "    \n",
    "    new_size = tuple([int(x*ratio) for x in old_size])\n",
    "    \n",
    "    # use thumbnail() or resize() method to resize the input image\n",
    "    # thumbnail is a in-place operation\n",
    "    im.thumbnail(new_size, Image.ANTIALIAS)\n",
    "#     im = im.resize(new_size, Image.ANTIALIAS)\n",
    "    # create a new image and paste the resized on it\n",
    "    new_im = Image.new(\"L\", (desired_size, desired_size))\n",
    "    new_im.paste(im, ((desired_size-new_size[0])//2,\n",
    "                        (desired_size-new_size[1])//2))\n",
    "\n",
    "\n",
    "    # display(new_im)\n",
    "    new_im = np.array(new_im)\n",
    "    new_im = cv2.resize(new_im, None, fx = .5, fy = .5, interpolation = cv2.INTER_LINEAR)\n",
    "    return new_im"
   ]
  },
  {
   "cell_type": "code",
   "execution_count": 67,
   "metadata": {
    "collapsed": false
   },
   "outputs": [
    {
     "data": {
      "image/png": "[encoded data removed]",
      "text/plain": [
       "<matplotlib.figure.Figure at 0x1bc93c1a278>"
      ]
     },
     "metadata": {},
     "output_type": "display_data"
    }
   ],
   "source": [
    "k = py_resize(train_files[0])\n",
    "plt.imshow(k, cmap = 'gray')\n",
    "plt.show()"
   ]
  },
  {
   "cell_type": "code",
   "execution_count": 68,
   "metadata": {
    "collapsed": false
   },
   "outputs": [
    {
     "data": {
      "image/png": "[encoded data removed]",
      "text/plain": [
       "<matplotlib.figure.Figure at 0x1bc97df37f0>"
      ]
     },
     "metadata": {},
     "output_type": "display_data"
    }
   ],
   "source": [
    "from astropy.visualization import ImageNormalize, SqrtStretch\n",
    "from astropy.visualization import MinMaxInterval\n",
    "\n",
    "img = py_resize(train_files[188])\n",
    "norm = ImageNormalize(img, interval=MinMaxInterval(), stretch=SqrtStretch())\n",
    "\n",
    "fig = plt.figure()\n",
    "ax = fig.add_subplot(1, 1, 1)\n",
    "im = ax.imshow(img, origin='upper', norm=norm)\n",
    "fig.colorbar(im)\n",
    "plt.axis('off')\n",
    "plt.show()"
   ]
  },
  {
   "cell_type": "code",
   "execution_count": 69,
   "metadata": {
    "collapsed": false
   },
   "outputs": [
    {
     "data": {
      "text/plain": [
       "(447, 64, 64)"
      ]
     },
     "execution_count": 69,
     "metadata": {},
     "output_type": "execute_result"
    }
   ],
   "source": [
    "train_images = []\n",
    "for i in range(len(train_files)):\n",
    "    k = py_resize(train_files[i]).astype('float32')/255\n",
    "    train_images.append(k)\n",
    "    \n",
    "train_images = np.array(train_images)\n",
    "train_images.shape"
   ]
  },
  {
   "cell_type": "code",
   "execution_count": 70,
   "metadata": {
    "collapsed": false
   },
   "outputs": [
    {
     "data": {
      "text/plain": [
       "(58, 64, 64)"
      ]
     },
     "execution_count": 70,
     "metadata": {},
     "output_type": "execute_result"
    }
   ],
   "source": [
    "test_images = []\n",
    "for i in range(len(test_files)):\n",
    "    k = py_resize(test_files[i]).astype('float32')/255\n",
    "    test_images.append(k)\n",
    "\n",
    "test_images = np.array(test_images)\n",
    "test_images.shape"
   ]
  },
  {
   "cell_type": "code",
   "execution_count": 71,
   "metadata": {
    "collapsed": true
   },
   "outputs": [],
   "source": [
    "import matplotlib.pyplot as plt\n",
    "\n",
    "from skimage.feature import hog\n",
    "from skimage import data, exposure\n",
    "import cv2\n",
    "\n",
    "\n",
    "def Hog(image1):\n",
    "    \n",
    "    image = image1\n",
    "\n",
    "    out, hog_image = hog(image, orientations=9, pixels_per_cell=(8, 8), cells_per_block=(2, 2), visualize=True, \n",
    "                         block_norm = 'L1', feature_vector = True, transform_sqrt = True)\n",
    "#     fig, (ax1, ax2) = plt.subplots(1, 2, figsize=(8, 4), sharex=True, sharey=True)\n",
    "#     ax1.axis('off')\n",
    "#     ax1.imshow(image, cmap=plt.cm.gray)\n",
    "#     ax1.set_title('Input image')\n",
    "\n",
    "    # Rescale histogram for better display\n",
    "    hog_image = exposure.rescale_intensity(hog_image, in_range=(0, 10), out_range=(0, 255))\n",
    "    hog_image = hog_image.astype(\"uint8\")\n",
    "\n",
    "#     ax2.axis('off')\n",
    "#     ax2.imshow(hog_image, cmap=plt.cm.gray)\n",
    "#     ax2.set_title('Histogram of Oriented Gradients')\n",
    "#     plt.show()\n",
    "    return out\n",
    "\n"
   ]
  },
  {
   "cell_type": "code",
   "execution_count": 72,
   "metadata": {
    "collapsed": false
   },
   "outputs": [
    {
     "data": {
      "text/plain": [
       "(1764,)"
      ]
     },
     "execution_count": 72,
     "metadata": {},
     "output_type": "execute_result"
    }
   ],
   "source": [
    "# make = imagePath.split(\"/\")[-2]\n",
    "\n",
    "import imutils\n",
    "from skimage.feature import hog\n",
    "from skimage import data, exposure\n",
    "\n",
    "def Hog_edge(img1):\n",
    "\n",
    "    # load the image, convert it to grayscay\n",
    "    \n",
    "    original = py_resize(img1)\n",
    "    edged = imutils.auto_canny(original)\n",
    "\n",
    "    #  extract Histogram of Oriented Gradients from the logo\n",
    "    H, img = hog(edged, orientations=9, pixels_per_cell=(8, 8),cells_per_block=(2, 2), transform_sqrt=True, \n",
    "                 feature_vector = True, visualize = True, block_norm=\"L1\")\n",
    "\n",
    "    img = exposure.rescale_intensity(img, out_range = (0, 255))\n",
    "\n",
    "#     fig = plt.figure(figsize=(15, 15))\n",
    "#     images = (\"Original grayscaled\", original), (\"Edge Filters\", edged), (\"Hog Features\", img)\n",
    "\n",
    "#     # loop over the images\n",
    "#     for (i, (name, image)) in enumerate(images):\n",
    "#         # show the image\n",
    "#         ax = fig.add_subplot(1, 3, i + 1)\n",
    "#         ax.set_title(name)\n",
    "#         plt.imshow(image, cmap = 'gray')\n",
    "#         plt.axis(\"off\")\n",
    " \n",
    "    # show the figure\n",
    "#     plt.show()\n",
    "    \n",
    "    return H\n",
    "\n",
    "p = Hog_edge(train_files[298])\n",
    " \n",
    "p.shape \n"
   ]
  },
  {
   "cell_type": "code",
   "execution_count": 73,
   "metadata": {
    "collapsed": false
   },
   "outputs": [
    {
     "data": {
      "text/plain": [
       "(64, 64)"
      ]
     },
     "execution_count": 73,
     "metadata": {},
     "output_type": "execute_result"
    }
   ],
   "source": [
    "k = Hog(train_images[298])\n",
    "\n",
    "# plt.imshow(image, cmap = 'gray')\n",
    "# plt.show()\n",
    "train_images[100].shape"
   ]
  },
  {
   "cell_type": "code",
   "execution_count": 58,
   "metadata": {
    "collapsed": false
   },
   "outputs": [],
   "source": [
    "hog_edge_train = []\n",
    "\n",
    "for i in range(len(train_files)):\n",
    "    hog_edge_train.append(Hog_edge(train_files[i]))\n",
    "    \n",
    "hog_edge_train = np.array(hog_edge_train)"
   ]
  },
  {
   "cell_type": "code",
   "execution_count": 60,
   "metadata": {
    "collapsed": false
   },
   "outputs": [
    {
     "data": {
      "text/plain": [
       "(58, 8100)"
      ]
     },
     "execution_count": 60,
     "metadata": {},
     "output_type": "execute_result"
    }
   ],
   "source": [
    "hog_edge_test = []\n",
    "\n",
    "for i in range(len(test_files)):\n",
    "    hog_edge_test.append(Hog_edge(test_files[i]))\n",
    "    \n",
    "hog_edge_test = np.array(hog_edge_test)\n",
    "hog_edge_test.shape"
   ]
  },
  {
   "cell_type": "code",
   "execution_count": 74,
   "metadata": {
    "collapsed": false
   },
   "outputs": [],
   "source": [
    "hog_features = []\n",
    "\n",
    "for i in range(len(train_images)):\n",
    "    hog_features.append(Hog(train_images[i]))\n",
    "    \n",
    "hog_train = np.array(hog_features)  \n"
   ]
  },
  {
   "cell_type": "code",
   "execution_count": 75,
   "metadata": {
    "collapsed": false
   },
   "outputs": [
    {
     "data": {
      "text/plain": [
       "(58, 1764)"
      ]
     },
     "execution_count": 75,
     "metadata": {},
     "output_type": "execute_result"
    }
   ],
   "source": [
    "hog_test = []\n",
    "\n",
    "for i in range(len(test_images)):\n",
    "    hog_test.append(Hog(test_images[i]))\n",
    "    \n",
    "hog_test = np.array(hog_test)\n",
    "hog_test.shape"
   ]
  },
  {
   "cell_type": "code",
   "execution_count": 76,
   "metadata": {
    "collapsed": true
   },
   "outputs": [],
   "source": [
    "from __future__ import print_function\n",
    "\n",
    "from time import time\n",
    "import logging\n",
    "import matplotlib.pyplot as plt\n",
    "\n",
    "from sklearn.model_selection import train_test_split\n",
    "from sklearn.model_selection import GridSearchCV\n",
    "from sklearn.datasets import fetch_lfw_people\n",
    "from sklearn.metrics import classification_report, accuracy_score\n",
    "from sklearn.metrics import confusion_matrix\n",
    "from sklearn.decomposition import PCA\n",
    "from sklearn.svm import LinearSVC"
   ]
  },
  {
   "cell_type": "code",
   "execution_count": 96,
   "metadata": {
    "collapsed": false
   },
   "outputs": [
    {
     "name": "stdout",
     "output_type": "stream",
     "text": [
      "Extracting the top 100 eigenfaces from 447 faces\n",
      "done in 0.522s\n",
      "Projecting the input data on the eigenfaces orthonormal basis\n",
      "done in 0.047s\n"
     ]
    }
   ],
   "source": [
    "n_components = 100\n",
    "# print(X_train.shape)\n",
    "print(\"Extracting the top %d eigenfaces from %d faces\" % (n_components, hog_train.shape[0]))\n",
    "\n",
    "t0 = time()\n",
    "pca = PCA(n_components=n_components, svd_solver='randomized').fit(hog_train)\n",
    "# pca = PCA(n_components=n_components, svd_solver='randomized').fit(hog_edge_train)\n",
    "\n",
    "\n",
    "print(\"done in %0.3fs\" % (time() - t0))\n",
    "\n",
    "# eigenfaces = pca.components_.reshape((n_components, 224, 224))\n",
    "\n",
    "print(\"Projecting the input data on the eigenfaces orthonormal basis\")\n",
    "t0 = time()\n",
    "X_train_pca = pca.transform(hog_train)\n",
    "X_test_pca = pca.transform(hog_test)\n",
    "# X_train_pca = pca.transform(hog_edge_train)\n",
    "# X_test_pca = pca.transform(hog_edge_test)\n",
    "print(\"done in %0.3fs\" % (time() - t0))"
   ]
  },
  {
   "cell_type": "code",
   "execution_count": 83,
   "metadata": {
    "collapsed": false
   },
   "outputs": [
    {
     "data": {
      "image/png": "[encoded data removed]",
      "text/plain": [
       "<matplotlib.figure.Figure at 0x1bc8eeeec18>"
      ]
     },
     "metadata": {},
     "output_type": "display_data"
    }
   ],
   "source": [
    "# printmd(\"#### Finding best 'k' PC components based on variance\")\n",
    "from sklearn.decomposition import PCA\n",
    "\n",
    "pca = PCA( )\n",
    "pca_hog_features = pca.fit_transform(hog_train)\n",
    "\n",
    "x = np.arange(0, hog_train.shape[0])\n",
    "y = pca.explained_variance_ratio_\n",
    "\n",
    "\n",
    "plt.figure()\n",
    "plt.plot(x, y,'r^')\n",
    "plt.plot(x, y, color = 'b')\n",
    "plt.title('PC components vs Variance')\n",
    "plt.xlabel('PC Components')\n",
    "plt.ylabel('Cummulative Variance')\n",
    "plt.xticks(np.arange(1, hog_train.shape[0], step = 10.0))\n",
    "\n",
    "plt.grid(True)\n",
    "plt.show()"
   ]
  },
  {
   "cell_type": "code",
   "execution_count": 97,
   "metadata": {
    "collapsed": false
   },
   "outputs": [
    {
     "name": "stdout",
     "output_type": "stream",
     "text": [
      "Fitting the classifier to the training set\n",
      "done in 0.930s\n"
     ]
    }
   ],
   "source": [
    "# Train a SVM classification model\n",
    "\n",
    "print(\"Fitting the classifier to the training set\")\n",
    "t0 = time()\n",
    "# param_grid = {'C': [1e3, 5e3, 1e4, 5e4, 1e5],\n",
    "#               'gamma': [0.0001, 0.0005, 0.001, 0.005, 0.01, 0.1], }\n",
    "\n",
    "clf = GridSearchCV(LinearSVC(random_state=0),\n",
    "                       param_grid={'C': [0.01, 0.02, 0.03, 0.1]},\n",
    "                       cv=5)\n",
    "\n",
    "clf_best = LinearSVC(C=0.1, class_weight=None, dual=True, fit_intercept=True,\n",
    "     intercept_scaling=1, loss='squared_hinge', max_iter=1000,\n",
    "     multi_class='ovr', penalty='l2', random_state=0, tol=0.0001,\n",
    "     verbose=0)\n",
    "\n",
    "# clf = GridSearchCV(SVC(kernel='rbf', class_weight='balanced'),\n",
    "#                    param_grid, cv=5)\n",
    "\n",
    "clf = clf.fit(X_train_pca, train_targets)\n",
    "# clf = clf.fit(hog_train, train_targets)\n",
    "\n",
    "# clf_best = clf_best.fit(X_train_pca, train_targets)\n",
    "# clf_best = clf_best.fit(hog_edge_train, train_targets)\n",
    "\n",
    "print(\"done in %0.3fs\" % (time() - t0))\n",
    "# print(\"Best estimator found by grid search:\")\n",
    "# print(clf.best_estimator_)"
   ]
  },
  {
   "cell_type": "code",
   "execution_count": 94,
   "metadata": {
    "collapsed": false,
    "scrolled": false
   },
   "outputs": [
    {
     "name": "stdout",
     "output_type": "stream",
     "text": [
      "Predicting dog's breeds on the test set\n",
      "done in 0.000s\n",
      "                     precision    recall  f1-score   support\n",
      "\n",
      "American_eskimo_dog       0.38      0.38      0.38         8\n",
      "Australian_shepherd       0.25      0.22      0.24         9\n",
      "             Briard       0.27      0.38      0.32         8\n",
      "          Dalmatian       0.30      0.33      0.32         9\n",
      "German_shepherd_dog       0.44      0.50      0.47         8\n",
      "           Havanese       0.20      0.12      0.15         8\n",
      "  Italian_greyhound       0.29      0.25      0.27         8\n",
      "\n",
      "        avg / total       0.30      0.31      0.30        58\n",
      "\n",
      "Accuracy Score: 31.03\n"
     ]
    }
   ],
   "source": [
    "# Quantitative evaluation of the model quality on the test set\n",
    "# n = 1000\n",
    "print(\"Predicting dog's breeds on the test set\")\n",
    "t0 = time()\n",
    "y_pred = clf.predict(X_test_pca)\n",
    "# y_pred = clf.predict(hog_test)\n",
    "\n",
    "print(\"done in %0.3fs\" % (time() - t0))\n",
    "\n",
    "print(classification_report(test_targets, y_pred, target_names=dog_names))\n",
    "# print(confusion_matrix(test_targets, y_pred, labels=range(7)))\n",
    "print(\"Accuracy Score:\",np.round(accuracy_score(test_targets, y_pred)*100, 2))"
   ]
  },
  {
   "cell_type": "code",
   "execution_count": null,
   "metadata": {
    "collapsed": true
   },
   "outputs": [],
   "source": []
  }
 ],
 "metadata": {
  "anaconda-cloud": {},
  "kernelspec": {
   "display_name": "Python [conda env:dog-project]",
   "language": "python",
   "name": "conda-env-dog-project-py"
  },
  "language_info": {
   "codemirror_mode": {
    "name": "ipython",
    "version": 3
   },
   "file_extension": ".py",
   "mimetype": "text/x-python",
   "name": "python",
   "nbconvert_exporter": "python",
   "pygments_lexer": "ipython3",
   "version": "3.5.3"
  }
 },
 "nbformat": 4,
 "nbformat_minor": 2
}
